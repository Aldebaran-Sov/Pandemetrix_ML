{
 "cells": [
  {
   "cell_type": "code",
   "execution_count": 1,
   "id": "a71cee38",
   "metadata": {},
   "outputs": [],
   "source": [
    "import pandas as pd\n",
    "from deltalake.writer import write_deltalake\n"
   ]
  },
  {
   "cell_type": "code",
   "execution_count": 2,
   "id": "d29240dd",
   "metadata": {},
   "outputs": [],
   "source": [
    "# Charger les données en Pandas\n",
    "df = pd.read_csv(\"data/raw/cases_deaths.csv\")\n",
    "\n",
    "# Écrire les données dans Delta Lake (format Delta)\n",
    "write_deltalake(\"data/lakehouse/cases_deaths\", df)"
   ]
  }
 ],
 "metadata": {
  "kernelspec": {
   "display_name": "Python 3",
   "language": "python",
   "name": "python3"
  },
  "language_info": {
   "codemirror_mode": {
    "name": "ipython",
    "version": 3
   },
   "file_extension": ".py",
   "mimetype": "text/x-python",
   "name": "python",
   "nbconvert_exporter": "python",
   "pygments_lexer": "ipython3",
   "version": "3.9.21"
  }
 },
 "nbformat": 4,
 "nbformat_minor": 5
}
