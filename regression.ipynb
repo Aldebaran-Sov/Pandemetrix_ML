{
 "cells": [
  {
   "cell_type": "code",
   "execution_count": 1,
   "id": "17055ffb",
   "metadata": {},
   "outputs": [],
   "source": [
    "import pandas as pd\n",
    "from sklearn.model_selection import train_test_split\n",
    "from sklearn.linear_model import LinearRegression\n",
    "from sklearn.preprocessing import PolynomialFeatures\n",
    "from sklearn.metrics import mean_squared_error, mean_absolute_error, r2_score"
   ]
  },
  {
   "cell_type": "code",
   "execution_count": 2,
   "id": "69f9f9e1",
   "metadata": {},
   "outputs": [],
   "source": [
    "# Charger les données en Pandas\n",
    "df = pd.read_csv(\"data/raw/cleaned_covid19.csv\")"
   ]
  },
  {
   "cell_type": "code",
   "execution_count": 3,
   "id": "c3c31640",
   "metadata": {},
   "outputs": [
    {
     "name": "stdout",
     "output_type": "stream",
     "text": [
      "            date_debut  nouveaux_cas  nouveaux_deces\n",
      "0  2020-01-04 00:00:00           1.0             0.0\n",
      "1  2020-01-04 00:00:00           1.0             0.0\n",
      "2  2020-01-04 00:00:00           1.0             0.0\n",
      "3  2020-01-05 00:00:00           0.0             3.0\n",
      "4  2020-01-06 00:00:00           3.0             0.0\n"
     ]
    }
   ],
   "source": [
    "df = df.drop(columns=[\"region_oms\",\"code_pays\",\"pays\"])\n",
    "print(df.head())\n",
    "df = df.groupby([\"date_debut\"], as_index=False).agg('sum')\n",
    "df.to_csv(\"data/raw/cleaned_covid19_2.csv\", index=False)"
   ]
  },
  {
   "cell_type": "code",
   "execution_count": 4,
   "id": "ac02b2af",
   "metadata": {},
   "outputs": [
    {
     "data": {
      "text/html": [
       "<div>\n",
       "<style scoped>\n",
       "    .dataframe tbody tr th:only-of-type {\n",
       "        vertical-align: middle;\n",
       "    }\n",
       "\n",
       "    .dataframe tbody tr th {\n",
       "        vertical-align: top;\n",
       "    }\n",
       "\n",
       "    .dataframe thead th {\n",
       "        text-align: right;\n",
       "    }\n",
       "</style>\n",
       "<table border=\"1\" class=\"dataframe\">\n",
       "  <thead>\n",
       "    <tr style=\"text-align: right;\">\n",
       "      <th></th>\n",
       "      <th>date_debut</th>\n",
       "      <th>nouveaux_cas</th>\n",
       "      <th>nouveaux_deces</th>\n",
       "    </tr>\n",
       "  </thead>\n",
       "  <tbody>\n",
       "    <tr>\n",
       "      <th>0</th>\n",
       "      <td>2020-01-04 00:00:00</td>\n",
       "      <td>3.0</td>\n",
       "      <td>0.0</td>\n",
       "    </tr>\n",
       "    <tr>\n",
       "      <th>1</th>\n",
       "      <td>2020-01-05 00:00:00</td>\n",
       "      <td>0.0</td>\n",
       "      <td>3.0</td>\n",
       "    </tr>\n",
       "    <tr>\n",
       "      <th>2</th>\n",
       "      <td>2020-01-06 00:00:00</td>\n",
       "      <td>3.0</td>\n",
       "      <td>0.0</td>\n",
       "    </tr>\n",
       "    <tr>\n",
       "      <th>3</th>\n",
       "      <td>2020-01-08 00:00:00</td>\n",
       "      <td>1.0</td>\n",
       "      <td>0.0</td>\n",
       "    </tr>\n",
       "    <tr>\n",
       "      <th>4</th>\n",
       "      <td>2020-01-12 00:00:00</td>\n",
       "      <td>41.0</td>\n",
       "      <td>1.0</td>\n",
       "    </tr>\n",
       "  </tbody>\n",
       "</table>\n",
       "</div>"
      ],
      "text/plain": [
       "            date_debut  nouveaux_cas  nouveaux_deces\n",
       "0  2020-01-04 00:00:00           3.0             0.0\n",
       "1  2020-01-05 00:00:00           0.0             3.0\n",
       "2  2020-01-06 00:00:00           3.0             0.0\n",
       "3  2020-01-08 00:00:00           1.0             0.0\n",
       "4  2020-01-12 00:00:00          41.0             1.0"
      ]
     },
     "execution_count": 4,
     "metadata": {},
     "output_type": "execute_result"
    }
   ],
   "source": [
    "df.head()"
   ]
  },
  {
   "cell_type": "code",
   "execution_count": null,
   "id": "5842e3fb",
   "metadata": {},
   "outputs": [
    {
     "name": "stdout",
     "output_type": "stream",
     "text": [
      "Performances du modèle régression linéaire:\n",
      "Coefficient de détermination (R²) : 0.48774768257195367\n",
      "Mean Squared Error (MSE) : 11750626.86454596\n",
      "Mean Absolute Error (MAE) : 2256.168433648462\n",
      "Mean Absolute Percentage Error (MAPE) : inf%\n"
     ]
    }
   ],
   "source": [
    "# data_encoded = pd.get_dummies(df, columns=[\"date_debut\"])\n",
    "data_encoded = df\n",
    "# features = [\"nouveaux_cas\"] + [col for col in data_encoded.columns if col.startswith(\"date_debut_\")]\n",
    "data_encoded[\"date_debut\"] = data_encoded[\"date_debut\"].astype('datetime64[ns]')\n",
    "data_encoded[\"date_debut\"] = data_encoded[\"date_debut\"].astype('int64') // 10**9\n",
    "features = [\"nouveaux_cas\",\"date_debut\"]\n",
    "\n",
    "X = data_encoded[features]  # Variables explicatives\n",
    "y = data_encoded[\"nouveaux_deces\"]  # Variable cible\n",
    "\n",
    "# Diviser les données en entraînement et test\n",
    "X_train, X_test, y_train, y_test = train_test_split(X, y, test_size=0.3, random_state=42)\n",
    "\n",
    "# Créer et entraîner le modèle de régression linéaire\n",
    "model = LinearRegression()\n",
    "model.fit(X_train, y_train)\n",
    "\n",
    "# Prédire les prix sur les données de test\n",
    "y_pred = model.predict(X_test)\n",
    "\n",
    "# Évaluer les performances du modèle\n",
    "mse = mean_squared_error(y_test, y_pred)\n",
    "r2 = r2_score(y_test, y_pred)\n",
    "mae = mean_absolute_error(y_test, y_pred)\n",
    "mape = (abs(y_test - y_pred) / abs(y_test)).mean() * 100\n",
    "\n",
    "print(f\"Performances du modèle régression linéaire:\")\n",
    "print(f\"Coefficient de détermination (R²) : {r2}\")\n",
    "# print(f\"Mean Squared Error (MSE) : {mse}\")\n",
    "print(f\"Mean Absolute Error (MAE) : {mae}\")\n",
    "# print(f\"Mean Absolute Percentage Error (MAPE) : {mape:.2f}%\")"
   ]
  },
  {
   "cell_type": "code",
   "execution_count": 6,
   "id": "c291bfce",
   "metadata": {},
   "outputs": [
    {
     "data": {
      "text/html": [
       "<div>\n",
       "<style scoped>\n",
       "    .dataframe tbody tr th:only-of-type {\n",
       "        vertical-align: middle;\n",
       "    }\n",
       "\n",
       "    .dataframe tbody tr th {\n",
       "        vertical-align: top;\n",
       "    }\n",
       "\n",
       "    .dataframe thead th {\n",
       "        text-align: right;\n",
       "    }\n",
       "</style>\n",
       "<table border=\"1\" class=\"dataframe\">\n",
       "  <thead>\n",
       "    <tr style=\"text-align: right;\">\n",
       "      <th></th>\n",
       "      <th>date_debut</th>\n",
       "      <th>nouveaux_cas</th>\n",
       "      <th>nouveaux_deces</th>\n",
       "    </tr>\n",
       "  </thead>\n",
       "  <tbody>\n",
       "    <tr>\n",
       "      <th>0</th>\n",
       "      <td>1578096000</td>\n",
       "      <td>3.0</td>\n",
       "      <td>0.0</td>\n",
       "    </tr>\n",
       "    <tr>\n",
       "      <th>1</th>\n",
       "      <td>1578182400</td>\n",
       "      <td>0.0</td>\n",
       "      <td>3.0</td>\n",
       "    </tr>\n",
       "    <tr>\n",
       "      <th>2</th>\n",
       "      <td>1578268800</td>\n",
       "      <td>3.0</td>\n",
       "      <td>0.0</td>\n",
       "    </tr>\n",
       "    <tr>\n",
       "      <th>3</th>\n",
       "      <td>1578441600</td>\n",
       "      <td>1.0</td>\n",
       "      <td>0.0</td>\n",
       "    </tr>\n",
       "    <tr>\n",
       "      <th>4</th>\n",
       "      <td>1578787200</td>\n",
       "      <td>41.0</td>\n",
       "      <td>1.0</td>\n",
       "    </tr>\n",
       "    <tr>\n",
       "      <th>...</th>\n",
       "      <td>...</td>\n",
       "      <td>...</td>\n",
       "      <td>...</td>\n",
       "    </tr>\n",
       "    <tr>\n",
       "      <th>1843</th>\n",
       "      <td>1737849600</td>\n",
       "      <td>1.0</td>\n",
       "      <td>0.0</td>\n",
       "    </tr>\n",
       "    <tr>\n",
       "      <th>1844</th>\n",
       "      <td>1737936000</td>\n",
       "      <td>14671.0</td>\n",
       "      <td>72.0</td>\n",
       "    </tr>\n",
       "    <tr>\n",
       "      <th>1845</th>\n",
       "      <td>1738022400</td>\n",
       "      <td>624.0</td>\n",
       "      <td>664.0</td>\n",
       "    </tr>\n",
       "    <tr>\n",
       "      <th>1846</th>\n",
       "      <td>1738108800</td>\n",
       "      <td>2.0</td>\n",
       "      <td>0.0</td>\n",
       "    </tr>\n",
       "    <tr>\n",
       "      <th>1847</th>\n",
       "      <td>1738195200</td>\n",
       "      <td>5.0</td>\n",
       "      <td>0.0</td>\n",
       "    </tr>\n",
       "  </tbody>\n",
       "</table>\n",
       "<p>1848 rows × 3 columns</p>\n",
       "</div>"
      ],
      "text/plain": [
       "      date_debut  nouveaux_cas  nouveaux_deces\n",
       "0     1578096000           3.0             0.0\n",
       "1     1578182400           0.0             3.0\n",
       "2     1578268800           3.0             0.0\n",
       "3     1578441600           1.0             0.0\n",
       "4     1578787200          41.0             1.0\n",
       "...          ...           ...             ...\n",
       "1843  1737849600           1.0             0.0\n",
       "1844  1737936000       14671.0            72.0\n",
       "1845  1738022400         624.0           664.0\n",
       "1846  1738108800           2.0             0.0\n",
       "1847  1738195200           5.0             0.0\n",
       "\n",
       "[1848 rows x 3 columns]"
      ]
     },
     "execution_count": 6,
     "metadata": {},
     "output_type": "execute_result"
    }
   ],
   "source": [
    "data_encoded"
   ]
  },
  {
   "cell_type": "code",
   "execution_count": null,
   "id": "cdade8eb",
   "metadata": {},
   "outputs": [],
   "source": []
  }
 ],
 "metadata": {
  "kernelspec": {
   "display_name": "Python 3",
   "language": "python",
   "name": "python3"
  },
  "language_info": {
   "codemirror_mode": {
    "name": "ipython",
    "version": 3
   },
   "file_extension": ".py",
   "mimetype": "text/x-python",
   "name": "python",
   "nbconvert_exporter": "python",
   "pygments_lexer": "ipython3",
   "version": "3.9.22"
  }
 },
 "nbformat": 4,
 "nbformat_minor": 5
}
